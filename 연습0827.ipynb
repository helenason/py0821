{
 "cells": [
  {
   "cell_type": "code",
   "execution_count": 3,
   "metadata": {},
   "outputs": [],
   "source": [
    "# import 모듈이름\n",
    "# from 모듈이름 import 함수이름"
   ]
  },
  {
   "cell_type": "code",
   "execution_count": null,
   "metadata": {},
   "outputs": [],
   "source": [
    "# pip install 모듈이름\n",
    "# pip uninstall 모듈이름\n",
    "# pip install numpy==1.16.4"
   ]
  },
  {
   "cell_type": "code",
   "execution_count": 2,
   "metadata": {},
   "outputs": [
    {
     "name": "stdout",
     "output_type": "stream",
     "text": [
      "c:\\py_test0821\n"
     ]
    }
   ],
   "source": [
    "import os\n",
    "print(os.getcwd()) # 현재 디렉토리 ( os 안의 함수 )"
   ]
  },
  {
   "cell_type": "code",
   "execution_count": 6,
   "metadata": {},
   "outputs": [
    {
     "name": "stdout",
     "output_type": "stream",
     "text": [
      "C:\\py_test0821\\py_test1\n",
      "C:\\py_test0821\n"
     ]
    }
   ],
   "source": [
    "import os\n",
    "os.chdir(\"C:\\py_test0821\") # 디렉토리 이동\n",
    "print(os.getcwd())"
   ]
  },
  {
   "cell_type": "code",
   "execution_count": 15,
   "metadata": {},
   "outputs": [
    {
     "data": {
      "text/plain": [
       "['.git',\n",
       " 'codeup.py',\n",
       " 'ex1.py',\n",
       " 'py_test1',\n",
       " 'quicksort.py',\n",
       " '__pycache__',\n",
       " '연습.ipynb',\n",
       " '연습0827.ipynb']"
      ]
     },
     "execution_count": 15,
     "metadata": {},
     "output_type": "execute_result"
    }
   ],
   "source": [
    "import os\n",
    "os.listdir() # 현 디렉토리 목록 반환\n",
    "os.listdir(\"C:\\py_test0821\") # 입력한 디렉토리의 목록 list로 반환"
   ]
  },
  {
   "cell_type": "code",
   "execution_count": 17,
   "metadata": {},
   "outputs": [
    {
     "name": "stdout",
     "output_type": "stream",
     "text": [
      ".git\n",
      "codeup.py\n",
      "ex1.py\n",
      "py_test1\n",
      "quicksort.py\n",
      "__pycache__\n",
      "연습.ipynb\n",
      "연습0827.ipynb\n"
     ]
    }
   ],
   "source": [
    "for i in os.listdir(\"C:\\py_test0821\") :\n",
    "    print(i)"
   ]
  },
  {
   "cell_type": "code",
   "execution_count": 19,
   "metadata": {},
   "outputs": [
    {
     "name": "stdout",
     "output_type": "stream",
     "text": [
      "True\n",
      "False\n"
     ]
    }
   ],
   "source": [
    "print(os.path.exists(\"C:\\py_test0821\\py_test1\")) # 특정 디렉토리가 존재하는지\n",
    "print(os.path.exists(\"C:\\py_test0821\\py_test2\"))"
   ]
  },
  {
   "cell_type": "code",
   "execution_count": 21,
   "metadata": {},
   "outputs": [],
   "source": [
    "os.mkdir(\"C:\\py_test0821\\py_test2\") # 디렉토리 생성 (하나)"
   ]
  },
  {
   "cell_type": "code",
   "execution_count": 22,
   "metadata": {},
   "outputs": [],
   "source": [
    "os.makedirs(\"C:\\py_test0821\\py_test3\\py_test4\") # 디렉토리 생성 (여러개 가능)"
   ]
  },
  {
   "cell_type": "code",
   "execution_count": 23,
   "metadata": {},
   "outputs": [],
   "source": [
    "os.rmdir(\"C:\\py_test0821\\py_test2\") # 하나의 디렉토리 삭제 (비어있어야 함)"
   ]
  },
  {
   "cell_type": "code",
   "execution_count": null,
   "metadata": {},
   "outputs": [],
   "source": [
    "# os.removedirs(\"C:\\py_test0821\\py_test3\") # 모든 경로 내의 디렉토리 한 번에 삭제 (비어있어야 함) <위험>"
   ]
  },
  {
   "cell_type": "code",
   "execution_count": null,
   "metadata": {},
   "outputs": [],
   "source": [
    "# 모드\n",
    "# t : 텍스트(기본)\n",
    "# b : 바이너리\n",
    "# r : 읽기\n",
    "# w : (덮어)쓰기\n",
    "# a : 이어쓰기\n",
    "# + : 읽기, 쓰기\n",
    "\n",
    "# 파일에 내용을 저장하는 순서\n",
    "# open -> write -> close"
   ]
  },
  {
   "cell_type": "code",
   "execution_count": 29,
   "metadata": {},
   "outputs": [],
   "source": [
    "file = open(\"text.txt\", \"a\") # (\"파일명\", \"모드\")\n",
    "file.write(\"\\nhello world!##\")\n",
    "file.close()"
   ]
  },
  {
   "cell_type": "code",
   "execution_count": 37,
   "metadata": {},
   "outputs": [],
   "source": [
    "f1 = open(\"text2.txt\", \"wt\", encoding=\"utf-8\")\n",
    "f1.write(\"1. 홈런볼\\n2. 맛동산\\n3. 에이스\\n4. 오감자\\n5. 꼬깔콘\")\n",
    "f1.close()"
   ]
  },
  {
   "cell_type": "code",
   "execution_count": 40,
   "metadata": {},
   "outputs": [],
   "source": [
    "for i in range(5) :\n",
    "    open(\"text{}.txt\".format(i+3), \"w\")"
   ]
  },
  {
   "cell_type": "code",
   "execution_count": 62,
   "metadata": {},
   "outputs": [
    {
     "data": {
      "text/plain": [
       "'1. 홈런볼\\n2. 맛동산\\n3. 에이스\\n4. 오감자\\n5. 꼬깔콘'"
      ]
     },
     "execution_count": 62,
     "metadata": {},
     "output_type": "execute_result"
    }
   ],
   "source": [
    "f1 = open(\"text2.txt\", \"r\", encoding=\"utf-8\")\n",
    "f1.read() # 문자열로 반환\n",
    "f1.readlines() # 리스트로 반환\n",
    "f1.readline() # 한 줄 반환, 파일의 포인터는 다음줄로 이동"
   ]
  },
  {
   "cell_type": "code",
   "execution_count": null,
   "metadata": {},
   "outputs": [],
   "source": []
  }
 ],
 "metadata": {
  "kernelspec": {
   "display_name": "Python 3.9.2 64-bit",
   "language": "python",
   "name": "python3"
  },
  "language_info": {
   "codemirror_mode": {
    "name": "ipython",
    "version": 3
   },
   "file_extension": ".py",
   "mimetype": "text/x-python",
   "name": "python",
   "nbconvert_exporter": "python",
   "pygments_lexer": "ipython3",
   "version": "3.9.2"
  },
  "orig_nbformat": 4,
  "vscode": {
   "interpreter": {
    "hash": "23a53bc2ab8feea98150286bb91b1fea49f295814b584663147e9f58b38aa0fc"
   }
  }
 },
 "nbformat": 4,
 "nbformat_minor": 2
}
